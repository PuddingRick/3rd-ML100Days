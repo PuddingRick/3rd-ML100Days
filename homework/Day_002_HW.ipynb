{
 "cells": [
  {
   "cell_type": "markdown",
   "metadata": {},
   "source": [
    "## [作業目標]\n",
    "了解機器學習適合應用的領域與範疇。"
   ]
  },
  {
   "cell_type": "markdown",
   "metadata": {},
   "source": [
    "## [作業重點]\n",
    "透過瞭解機器學習的運作方式，找出非常適用機器學習應用的領域及其原因"
   ]
  },
  {
   "cell_type": "markdown",
   "metadata": {},
   "source": [
    "## 作業\n",
    "請找出一個你認為機器學習可以發光發熱的領域並闡述原因? \n",
    "> 產品之瑕疵檢測\n",
    ">\n",
    "> 一般來說，工廠會在產品生產出來的時候對產品進行檢測看產品是否有瑕疵，\n",
    "> 其中一種檢測就是視覺檢測，而傳統的做法是請作業人員用眼鏡進行目檢，\n",
    "> 但是這種做法會需要大量的目檢人員，而且人眼也有可能疲勞導致誤判的情況發生，\n",
    "> 所以隨著機器學習的發展，只要有足夠的標記資料，\n",
    "> 應該能夠將機器學習用在產品之瑕疵檢測上，提升產品生產的效率。"
   ]
  },
  {
   "cell_type": "code",
   "execution_count": null,
   "metadata": {},
   "outputs": [],
   "source": []
  }
 ],
 "metadata": {
  "kernelspec": {
   "display_name": "ml100days_venv",
   "language": "python",
   "name": "ml100days_venv"
  },
  "language_info": {
   "codemirror_mode": {
    "name": "ipython",
    "version": 3
   },
   "file_extension": ".py",
   "mimetype": "text/x-python",
   "name": "python",
   "nbconvert_exporter": "python",
   "pygments_lexer": "ipython3",
   "version": "3.7.2"
  }
 },
 "nbformat": 4,
 "nbformat_minor": 2
}
